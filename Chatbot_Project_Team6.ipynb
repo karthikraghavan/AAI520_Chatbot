{
  "cells": [
    {
      "cell_type": "markdown",
      "metadata": {
        "colab_type": "text",
        "id": "view-in-github"
      },
      "source": [
        "<a href=\"https://colab.research.google.com/github/vperng/AAI520-NPL-Chatbot/blob/main/Chatbot_Project_Team6.ipynb\" target=\"_parent\"><img src=\"https://colab.research.google.com/assets/colab-badge.svg\" alt=\"Open In Colab\"/></a>"
      ]
    },
    {
      "cell_type": "markdown",
      "metadata": {
        "id": "FJVt0v8fpRaG"
      },
      "source": [
        "# Advanced Generative Chatbot Design\n",
        "\n",
        "Rene Ortiz, Vivian Perng, Karthink Raghavan\n",
        "\n",
        "## Project Overview\n",
        "\n",
        "- Goal: Build a chatbot that can carry out multi-turn conversations, adapt to context, and handle a variety of topics.\n",
        "- Output: A web or app interface where users can converse with the chatbot.\n"
      ]
    },
    {
      "cell_type": "markdown",
      "metadata": {
        "id": "p8ISlvHpp2KC"
      },
      "source": [
        "## Data Collection and Preprocessing"
      ]
    },
    {
      "cell_type": "code",
      "execution_count": 4,
      "metadata": {
        "colab": {
          "base_uri": "https://localhost:8080/"
        },
        "id": "HzxcOHqkOkiO",
        "outputId": "e709b638-67d1-4387-b038-9c65e4d5bb7c"
      },
      "outputs": [
        {
          "ename": "ModuleNotFoundError",
          "evalue": "No module named 'google.colab'",
          "output_type": "error",
          "traceback": [
            "\u001b[0;31m---------------------------------------------------------------------------\u001b[0m",
            "\u001b[0;31mModuleNotFoundError\u001b[0m                       Traceback (most recent call last)",
            "Cell \u001b[0;32mIn[4], line 3\u001b[0m\n\u001b[1;32m      1\u001b[0m \u001b[38;5;66;03m### COMMENT OUT IF NOT USING GOOGLE COLAB ####\u001b[39;00m\n\u001b[1;32m      2\u001b[0m \u001b[38;5;28;01mimport\u001b[39;00m \u001b[38;5;21;01mos\u001b[39;00m\n\u001b[0;32m----> 3\u001b[0m \u001b[38;5;28;01mfrom\u001b[39;00m \u001b[38;5;21;01mgoogle\u001b[39;00m\u001b[38;5;21;01m.\u001b[39;00m\u001b[38;5;21;01mcolab\u001b[39;00m \u001b[38;5;28;01mimport\u001b[39;00m drive\n\u001b[1;32m      4\u001b[0m drive\u001b[38;5;241m.\u001b[39mmount(\u001b[38;5;124m'\u001b[39m\u001b[38;5;124m/content/drive\u001b[39m\u001b[38;5;124m'\u001b[39m)\n\u001b[1;32m      6\u001b[0m \u001b[38;5;66;03m# Set the path to project folder\u001b[39;00m\n",
            "\u001b[0;31mModuleNotFoundError\u001b[0m: No module named 'google.colab'"
          ]
        }
      ],
      "source": [
        "### COMMENT OUT IF NOT USING GOOGLE COLAB ####\n",
        "import os\n",
        "from google.colab import drive\n",
        "drive.mount('/content/drive')\n",
        "\n",
        "# Set the path to project folder\n",
        "project_folder = '/content/drive/MyDrive/Colab Notebooks/Chatbot_Project'\n",
        "\n",
        "# Change the working directory to project folder\n",
        "os.chdir(project_folder)\n",
        "\n",
        "# Check the current working directory\n",
        "print(os.getcwd())\n",
        "\n",
        "# Install packages that are not on Google Colab here\n"
      ]
    },
    {
      "cell_type": "code",
      "execution_count": 18,
      "metadata": {
        "colab": {
          "base_uri": "https://localhost:8080/"
        },
        "id": "yRsxtzpIcG8p",
        "outputId": "7e6a4995-8243-42bc-f07b-66bc2bcc5186"
      },
      "outputs": [
        {
          "name": "stdout",
          "output_type": "stream",
          "text": [
            "Using device: cpu\n"
          ]
        }
      ],
      "source": [
        "# Import libraries\n",
        "import json\n",
        "import numpy as np\n",
        "import pandas as pd\n",
        "import torch\n",
        "\n",
        "# Check if GPU is available\n",
        "device = torch.device(\"cuda\" if torch.cuda.is_available() else \"cpu\")\n",
        "print(f'Using device: {device}')\n"
      ]
    },
    {
      "cell_type": "code",
      "execution_count": 19,
      "metadata": {
        "colab": {
          "base_uri": "https://localhost:8080/"
        },
        "id": "08-w0NMNLpMw",
        "outputId": "551d4c69-d6ce-4e20-bcf2-8e3ce8181ac1"
      },
      "outputs": [
        {
          "name": "stdout",
          "output_type": "stream",
          "text": [
            "<class 'dict'>\n"
          ]
        }
      ],
      "source": [
        "# Open files for reading\n",
        "with open('/content/drive/MyDrive/Colab Notebooks/Chatbot_Project/train-v1.1.json', 'r') as file:\n",
        "    train_data = json.load(file)\n",
        "print(type(train_data))"
      ]
    },
    {
      "cell_type": "code",
      "execution_count": 20,
      "metadata": {
        "colab": {
          "base_uri": "https://localhost:8080/"
        },
        "id": "cic93JJUMBnf",
        "outputId": "e67a2554-0140-4334-cc7a-6e2f5a445c15"
      },
      "outputs": [
        {
          "name": "stdout",
          "output_type": "stream",
          "text": [
            "Type of value for key \"data\": <class 'list'>\n",
            "Type of value for key \"version\": <class 'str'>\n",
            "Length of list for key \"data\": 442\n",
            "Value for key \"version\": 1.1\n"
          ]
        }
      ],
      "source": [
        "# Determine type for each key\n",
        "for key in train_data.keys():\n",
        "    print(f'Type of value for key \"{key}\": {type(train_data[key])}')\n",
        "\n",
        "# Print information about each key\n",
        "for key in train_data.keys():\n",
        "    value = train_data[key]\n",
        "    if isinstance(value, list):\n",
        "        print(f'Length of list for key \"{key}\": {len(value)}')\n",
        "    else:\n",
        "        print(f'Value for key \"{key}\": {value}')"
      ]
    },
    {
      "cell_type": "code",
      "execution_count": 21,
      "metadata": {
        "colab": {
          "base_uri": "https://localhost:8080/"
        },
        "id": "lI9fiO3VMxsI",
        "outputId": "a9cd77b3-9373-47b6-84ca-c979a40b0e97"
      },
      "outputs": [
        {
          "name": "stdout",
          "output_type": "stream",
          "text": [
            "[]: <class 'dict'>\n",
            "title: <class 'str'>\n",
            "paragraphs: <class 'list'>\n",
            "paragraphs[]: <class 'dict'>\n",
            "paragraphs > context: <class 'str'>\n",
            "paragraphs > qas: <class 'list'>\n",
            "paragraphs > qas[]: <class 'dict'>\n",
            "paragraphs > qas > answers: <class 'list'>\n",
            "paragraphs > qas > answers[]: <class 'dict'>\n",
            "paragraphs > qas > answers > answer_start: <class 'int'>\n",
            "paragraphs > qas > answers > text: <class 'str'>\n",
            "paragraphs > qas > question: <class 'str'>\n",
            "paragraphs > qas > id: <class 'str'>\n"
          ]
        }
      ],
      "source": [
        "def explore_record_path(data, path=None):\n",
        "    \"\"\"\n",
        "    Recursively explore the nested structure of a JSON-like object (dict or list) and print the paths\n",
        "    and types at each level.\n",
        "\n",
        "    Parameters:\n",
        "    data (dict or list): The JSON data or a nested structure to explore.\n",
        "    path (list): A list to track the current record path (used internally for recursion).\n",
        "\n",
        "    Example usage:\n",
        "    explore_record_path(train_data['data'])\n",
        "    \"\"\"\n",
        "\n",
        "    if path is None:\n",
        "        path = []\n",
        "\n",
        "    # If the data is a dictionary, print the keys and recursively explore\n",
        "    if isinstance(data, dict):\n",
        "        for key in data:\n",
        "            print(f\"{' > '.join(path + [key])}: {type(data[key])}\")\n",
        "            explore_record_path(data[key], path + [key])\n",
        "\n",
        "    # If the data is a list, print the index and recursively explore the first element\n",
        "    elif isinstance(data, list) and len(data) > 0:\n",
        "        print(f\"{' > '.join(path)}[]: {type(data[0])}\")\n",
        "        explore_record_path(data[0], path)\n",
        "\n",
        "# Explore the nested JSON structure to determine record path\n",
        "explore_record_path(train_data['data'])"
      ]
    },
    {
      "cell_type": "code",
      "execution_count": 22,
      "metadata": {
        "id": "2cLu5d5xP40B"
      },
      "outputs": [],
      "source": [
        "def squad1_json_to_dataframe(file_path, record_path):\n",
        "    \"\"\"\n",
        "    Function to convert the dataset JSON file to a Pandas DataFrame.\n",
        "\n",
        "    file_path (str): Path to the JSON file\n",
        "    record_path (list): Path to the deepest level in the JSON structure (default is ['data', 'paragraphs', 'qas', 'answers']).\n",
        "\n",
        "    Returns dataFrame containing the parsed data.\n",
        "    \"\"\"\n",
        "    # Load JSON data\n",
        "    with open(file_path, 'r') as f:\n",
        "        file_data = json.load(f)\n",
        "\n",
        "    # Extract and normalize the nested JSON structures\n",
        "    answers_df = pd.json_normalize(file_data, record_path)\n",
        "    questions_df = pd.json_normalize(file_data, record_path[:-1])\n",
        "    paragraphs_df = pd.json_normalize(file_data, record_path[:-2])\n",
        "\n",
        "    # Add 'answer start' and 'text' from answers_df to questions_df\n",
        "    questions_df['answer_start'] = answers_df['answer_start']\n",
        "    questions_df['answers'] = answers_df['text']\n",
        "\n",
        "    # Create 'context' by repeating the corresponding paragraph for each question\n",
        "    questions_df['context'] = np.repeat(paragraphs_df['context'].values, paragraphs_df.qas.str.len())\n",
        "\n",
        "    # Create final DataFrame with necessary columns\n",
        "    data = questions_df[['id', 'question', 'context', 'answer_start', 'answers']].copy()\n",
        "\n",
        "    # Add 'c_id' to uniquely identify each context\n",
        "    data['c_id'] = pd.factorize(data['context'])[0]\n",
        "\n",
        "    return data.reset_index(drop=True)\n"
      ]
    },
    {
      "cell_type": "code",
      "execution_count": 23,
      "metadata": {
        "colab": {
          "base_uri": "https://localhost:8080/",
          "height": 424
        },
        "id": "Sr0cWEQJTXfX",
        "outputId": "a1055619-b316-4328-ce27-4b163bbccc3d"
      },
      "outputs": [
        {
          "data": {
            "application/vnd.google.colaboratory.intrinsic+json": {
              "summary": "{\n  \"name\": \"df\",\n  \"rows\": 87599,\n  \"fields\": [\n    {\n      \"column\": \"id\",\n      \"properties\": {\n        \"dtype\": \"string\",\n        \"num_unique_values\": 87599,\n        \"samples\": [\n          \"56de4d9ecffd8e1900b4b7e2\",\n          \"572674a05951b619008f7319\",\n          \"5730bb058ab72b1400f9c72c\"\n        ],\n        \"semantic_type\": \"\",\n        \"description\": \"\"\n      }\n    },\n    {\n      \"column\": \"question\",\n      \"properties\": {\n        \"dtype\": \"string\",\n        \"num_unique_values\": 87355,\n        \"samples\": [\n          \"What metropolitan area is Portsmouth a part of?\",\n          \"What symbol did Abu Muslim use in his revolt against the Umayyads?\",\n          \"Who did Jesus say were his \\\"brother, and sister, and mother?\\\"\"\n        ],\n        \"semantic_type\": \"\",\n        \"description\": \"\"\n      }\n    },\n    {\n      \"column\": \"context\",\n      \"properties\": {\n        \"dtype\": \"category\",\n        \"num_unique_values\": 18891,\n        \"samples\": [\n          \"More commonly, in cases where there are three or more parties, no one party is likely to gain power alone, and parties work with each other to form coalition governments. This has been an emerging trend in the politics of the Republic of Ireland since the 1980s and is almost always the case in Germany on national and state level, and in most constituencies at the communal level. Furthermore, since the forming of the Republic of Iceland there has never been a government not led by a coalition (usually of the Independence Party and one other (often the Social Democratic Alliance). A similar situation exists in the Republic of Ireland; since 1989, no one party has held power on its own. Since then, numerous coalition governments have been formed. These coalitions have been exclusively led by one of either Fianna F\\u00e1il or Fine Gael. Political change is often easier with a coalition government than in one-party or two-party dominant systems.[dubious \\u2013 discuss] If factions in a two-party system are in fundamental disagreement on policy goals, or even principles, they can be slow to make policy changes, which appears to be the case now in the U.S. with power split between Democrats and Republicans. Still coalition governments struggle, sometimes for years, to change policy and often fail altogether, post World War II France and Italy being prime examples. When one party in a two-party system controls all elective branches, however, policy changes can be both swift and significant. Democrats Woodrow Wilson, Franklin Roosevelt and Lyndon Johnson were beneficiaries of such fortuitous circumstances, as were Republicans as far removed in time as Abraham Lincoln and Ronald Reagan. Barack Obama briefly had such an advantage between 2009 and 2011.\",\n          \"There has been some concern over the potential adverse environmental and ecosystem effects caused by the influx of visitors. Some environmentalists and scientists have made a call for stricter regulations for ships and a tourism quota. The primary response by Antarctic Treaty Parties has been to develop, through their Committee for Environmental Protection and in partnership with IAATO, \\\"site use guidelines\\\" setting landing limits and closed or restricted zones on the more frequently visited sites. Antarctic sightseeing flights (which did not land) operated out of Australia and New Zealand until the fatal crash of Air New Zealand Flight 901 in 1979 on Mount Erebus, which killed all 257 aboard. Qantas resumed commercial overflights to Antarctica from Australia in the mid-1990s.\",\n          \"After World War II, the Guam Organic Act of 1950 established Guam as an unincorporated organized territory of the United States, provided for the structure of the island's civilian government, and granted the people U.S. citizenship. The Governor of Guam was federally appointed until 1968, when the Guam Elective Governor Act provided for the office's popular election.:242 Since Guam is not a U.S. state, U.S. citizens residing on Guam are not allowed to vote for president and their congressional representative is a non-voting member.\"\n        ],\n        \"semantic_type\": \"\",\n        \"description\": \"\"\n      }\n    },\n    {\n      \"column\": \"answer_start\",\n      \"properties\": {\n        \"dtype\": \"number\",\n        \"std\": 266,\n        \"min\": 0,\n        \"max\": 3126,\n        \"num_unique_values\": 1604,\n        \"samples\": [\n          527,\n          1,\n          111\n        ],\n        \"semantic_type\": \"\",\n        \"description\": \"\"\n      }\n    },\n    {\n      \"column\": \"answers\",\n      \"properties\": {\n        \"dtype\": \"string\",\n        \"num_unique_values\": 65134,\n        \"samples\": [\n          \"subtropical\",\n          \"$20.67\",\n          \"Power Mac G4 Cube\"\n        ],\n        \"semantic_type\": \"\",\n        \"description\": \"\"\n      }\n    },\n    {\n      \"column\": \"c_id\",\n      \"properties\": {\n        \"dtype\": \"number\",\n        \"std\": 5495,\n        \"min\": 0,\n        \"max\": 18890,\n        \"num_unique_values\": 18891,\n        \"samples\": [\n          12498,\n          6904,\n          15073\n        ],\n        \"semantic_type\": \"\",\n        \"description\": \"\"\n      }\n    }\n  ]\n}",
              "type": "dataframe",
              "variable_name": "df"
            },
            "text/html": [
              "\n",
              "  <div id=\"df-c6a71d06-792b-41ff-a3b2-0db2bd7087f5\" class=\"colab-df-container\">\n",
              "    <div>\n",
              "<style scoped>\n",
              "    .dataframe tbody tr th:only-of-type {\n",
              "        vertical-align: middle;\n",
              "    }\n",
              "\n",
              "    .dataframe tbody tr th {\n",
              "        vertical-align: top;\n",
              "    }\n",
              "\n",
              "    .dataframe thead th {\n",
              "        text-align: right;\n",
              "    }\n",
              "</style>\n",
              "<table border=\"1\" class=\"dataframe\">\n",
              "  <thead>\n",
              "    <tr style=\"text-align: right;\">\n",
              "      <th></th>\n",
              "      <th>id</th>\n",
              "      <th>question</th>\n",
              "      <th>context</th>\n",
              "      <th>answer_start</th>\n",
              "      <th>answers</th>\n",
              "      <th>c_id</th>\n",
              "    </tr>\n",
              "  </thead>\n",
              "  <tbody>\n",
              "    <tr>\n",
              "      <th>0</th>\n",
              "      <td>5733be284776f41900661182</td>\n",
              "      <td>To whom did the Virgin Mary allegedly appear i...</td>\n",
              "      <td>Architecturally, the school has a Catholic cha...</td>\n",
              "      <td>515</td>\n",
              "      <td>Saint Bernadette Soubirous</td>\n",
              "      <td>0</td>\n",
              "    </tr>\n",
              "    <tr>\n",
              "      <th>1</th>\n",
              "      <td>5733be284776f4190066117f</td>\n",
              "      <td>What is in front of the Notre Dame Main Building?</td>\n",
              "      <td>Architecturally, the school has a Catholic cha...</td>\n",
              "      <td>188</td>\n",
              "      <td>a copper statue of Christ</td>\n",
              "      <td>0</td>\n",
              "    </tr>\n",
              "    <tr>\n",
              "      <th>2</th>\n",
              "      <td>5733be284776f41900661180</td>\n",
              "      <td>The Basilica of the Sacred heart at Notre Dame...</td>\n",
              "      <td>Architecturally, the school has a Catholic cha...</td>\n",
              "      <td>279</td>\n",
              "      <td>the Main Building</td>\n",
              "      <td>0</td>\n",
              "    </tr>\n",
              "    <tr>\n",
              "      <th>3</th>\n",
              "      <td>5733be284776f41900661181</td>\n",
              "      <td>What is the Grotto at Notre Dame?</td>\n",
              "      <td>Architecturally, the school has a Catholic cha...</td>\n",
              "      <td>381</td>\n",
              "      <td>a Marian place of prayer and reflection</td>\n",
              "      <td>0</td>\n",
              "    </tr>\n",
              "    <tr>\n",
              "      <th>4</th>\n",
              "      <td>5733be284776f4190066117e</td>\n",
              "      <td>What sits on top of the Main Building at Notre...</td>\n",
              "      <td>Architecturally, the school has a Catholic cha...</td>\n",
              "      <td>92</td>\n",
              "      <td>a golden statue of the Virgin Mary</td>\n",
              "      <td>0</td>\n",
              "    </tr>\n",
              "    <tr>\n",
              "      <th>...</th>\n",
              "      <td>...</td>\n",
              "      <td>...</td>\n",
              "      <td>...</td>\n",
              "      <td>...</td>\n",
              "      <td>...</td>\n",
              "      <td>...</td>\n",
              "    </tr>\n",
              "    <tr>\n",
              "      <th>87594</th>\n",
              "      <td>5735d259012e2f140011a09d</td>\n",
              "      <td>In what US state did Kathmandu first establish...</td>\n",
              "      <td>Kathmandu Metropolitan City (KMC), in order to...</td>\n",
              "      <td>229</td>\n",
              "      <td>Oregon</td>\n",
              "      <td>18890</td>\n",
              "    </tr>\n",
              "    <tr>\n",
              "      <th>87595</th>\n",
              "      <td>5735d259012e2f140011a09e</td>\n",
              "      <td>What was Yangon previously known as?</td>\n",
              "      <td>Kathmandu Metropolitan City (KMC), in order to...</td>\n",
              "      <td>414</td>\n",
              "      <td>Rangoon</td>\n",
              "      <td>18890</td>\n",
              "    </tr>\n",
              "    <tr>\n",
              "      <th>87596</th>\n",
              "      <td>5735d259012e2f140011a09f</td>\n",
              "      <td>With what Belorussian city does Kathmandu have...</td>\n",
              "      <td>Kathmandu Metropolitan City (KMC), in order to...</td>\n",
              "      <td>476</td>\n",
              "      <td>Minsk</td>\n",
              "      <td>18890</td>\n",
              "    </tr>\n",
              "    <tr>\n",
              "      <th>87597</th>\n",
              "      <td>5735d259012e2f140011a0a0</td>\n",
              "      <td>In what year did Kathmandu create its initial ...</td>\n",
              "      <td>Kathmandu Metropolitan City (KMC), in order to...</td>\n",
              "      <td>199</td>\n",
              "      <td>1975</td>\n",
              "      <td>18890</td>\n",
              "    </tr>\n",
              "    <tr>\n",
              "      <th>87598</th>\n",
              "      <td>5735d259012e2f140011a0a1</td>\n",
              "      <td>What is KMC an initialism of?</td>\n",
              "      <td>Kathmandu Metropolitan City (KMC), in order to...</td>\n",
              "      <td>0</td>\n",
              "      <td>Kathmandu Metropolitan City</td>\n",
              "      <td>18890</td>\n",
              "    </tr>\n",
              "  </tbody>\n",
              "</table>\n",
              "<p>87599 rows × 6 columns</p>\n",
              "</div>\n",
              "    <div class=\"colab-df-buttons\">\n",
              "\n",
              "  <div class=\"colab-df-container\">\n",
              "    <button class=\"colab-df-convert\" onclick=\"convertToInteractive('df-c6a71d06-792b-41ff-a3b2-0db2bd7087f5')\"\n",
              "            title=\"Convert this dataframe to an interactive table.\"\n",
              "            style=\"display:none;\">\n",
              "\n",
              "  <svg xmlns=\"http://www.w3.org/2000/svg\" height=\"24px\" viewBox=\"0 -960 960 960\">\n",
              "    <path d=\"M120-120v-720h720v720H120Zm60-500h600v-160H180v160Zm220 220h160v-160H400v160Zm0 220h160v-160H400v160ZM180-400h160v-160H180v160Zm440 0h160v-160H620v160ZM180-180h160v-160H180v160Zm440 0h160v-160H620v160Z\"/>\n",
              "  </svg>\n",
              "    </button>\n",
              "\n",
              "  <style>\n",
              "    .colab-df-container {\n",
              "      display:flex;\n",
              "      gap: 12px;\n",
              "    }\n",
              "\n",
              "    .colab-df-convert {\n",
              "      background-color: #E8F0FE;\n",
              "      border: none;\n",
              "      border-radius: 50%;\n",
              "      cursor: pointer;\n",
              "      display: none;\n",
              "      fill: #1967D2;\n",
              "      height: 32px;\n",
              "      padding: 0 0 0 0;\n",
              "      width: 32px;\n",
              "    }\n",
              "\n",
              "    .colab-df-convert:hover {\n",
              "      background-color: #E2EBFA;\n",
              "      box-shadow: 0px 1px 2px rgba(60, 64, 67, 0.3), 0px 1px 3px 1px rgba(60, 64, 67, 0.15);\n",
              "      fill: #174EA6;\n",
              "    }\n",
              "\n",
              "    .colab-df-buttons div {\n",
              "      margin-bottom: 4px;\n",
              "    }\n",
              "\n",
              "    [theme=dark] .colab-df-convert {\n",
              "      background-color: #3B4455;\n",
              "      fill: #D2E3FC;\n",
              "    }\n",
              "\n",
              "    [theme=dark] .colab-df-convert:hover {\n",
              "      background-color: #434B5C;\n",
              "      box-shadow: 0px 1px 3px 1px rgba(0, 0, 0, 0.15);\n",
              "      filter: drop-shadow(0px 1px 2px rgba(0, 0, 0, 0.3));\n",
              "      fill: #FFFFFF;\n",
              "    }\n",
              "  </style>\n",
              "\n",
              "    <script>\n",
              "      const buttonEl =\n",
              "        document.querySelector('#df-c6a71d06-792b-41ff-a3b2-0db2bd7087f5 button.colab-df-convert');\n",
              "      buttonEl.style.display =\n",
              "        google.colab.kernel.accessAllowed ? 'block' : 'none';\n",
              "\n",
              "      async function convertToInteractive(key) {\n",
              "        const element = document.querySelector('#df-c6a71d06-792b-41ff-a3b2-0db2bd7087f5');\n",
              "        const dataTable =\n",
              "          await google.colab.kernel.invokeFunction('convertToInteractive',\n",
              "                                                    [key], {});\n",
              "        if (!dataTable) return;\n",
              "\n",
              "        const docLinkHtml = 'Like what you see? Visit the ' +\n",
              "          '<a target=\"_blank\" href=https://colab.research.google.com/notebooks/data_table.ipynb>data table notebook</a>'\n",
              "          + ' to learn more about interactive tables.';\n",
              "        element.innerHTML = '';\n",
              "        dataTable['output_type'] = 'display_data';\n",
              "        await google.colab.output.renderOutput(dataTable, element);\n",
              "        const docLink = document.createElement('div');\n",
              "        docLink.innerHTML = docLinkHtml;\n",
              "        element.appendChild(docLink);\n",
              "      }\n",
              "    </script>\n",
              "  </div>\n",
              "\n",
              "\n",
              "<div id=\"df-2ebf0ed1-f6d6-4bdb-9aa9-b9220b03a1d9\">\n",
              "  <button class=\"colab-df-quickchart\" onclick=\"quickchart('df-2ebf0ed1-f6d6-4bdb-9aa9-b9220b03a1d9')\"\n",
              "            title=\"Suggest charts\"\n",
              "            style=\"display:none;\">\n",
              "\n",
              "<svg xmlns=\"http://www.w3.org/2000/svg\" height=\"24px\"viewBox=\"0 0 24 24\"\n",
              "     width=\"24px\">\n",
              "    <g>\n",
              "        <path d=\"M19 3H5c-1.1 0-2 .9-2 2v14c0 1.1.9 2 2 2h14c1.1 0 2-.9 2-2V5c0-1.1-.9-2-2-2zM9 17H7v-7h2v7zm4 0h-2V7h2v10zm4 0h-2v-4h2v4z\"/>\n",
              "    </g>\n",
              "</svg>\n",
              "  </button>\n",
              "\n",
              "<style>\n",
              "  .colab-df-quickchart {\n",
              "      --bg-color: #E8F0FE;\n",
              "      --fill-color: #1967D2;\n",
              "      --hover-bg-color: #E2EBFA;\n",
              "      --hover-fill-color: #174EA6;\n",
              "      --disabled-fill-color: #AAA;\n",
              "      --disabled-bg-color: #DDD;\n",
              "  }\n",
              "\n",
              "  [theme=dark] .colab-df-quickchart {\n",
              "      --bg-color: #3B4455;\n",
              "      --fill-color: #D2E3FC;\n",
              "      --hover-bg-color: #434B5C;\n",
              "      --hover-fill-color: #FFFFFF;\n",
              "      --disabled-bg-color: #3B4455;\n",
              "      --disabled-fill-color: #666;\n",
              "  }\n",
              "\n",
              "  .colab-df-quickchart {\n",
              "    background-color: var(--bg-color);\n",
              "    border: none;\n",
              "    border-radius: 50%;\n",
              "    cursor: pointer;\n",
              "    display: none;\n",
              "    fill: var(--fill-color);\n",
              "    height: 32px;\n",
              "    padding: 0;\n",
              "    width: 32px;\n",
              "  }\n",
              "\n",
              "  .colab-df-quickchart:hover {\n",
              "    background-color: var(--hover-bg-color);\n",
              "    box-shadow: 0 1px 2px rgba(60, 64, 67, 0.3), 0 1px 3px 1px rgba(60, 64, 67, 0.15);\n",
              "    fill: var(--button-hover-fill-color);\n",
              "  }\n",
              "\n",
              "  .colab-df-quickchart-complete:disabled,\n",
              "  .colab-df-quickchart-complete:disabled:hover {\n",
              "    background-color: var(--disabled-bg-color);\n",
              "    fill: var(--disabled-fill-color);\n",
              "    box-shadow: none;\n",
              "  }\n",
              "\n",
              "  .colab-df-spinner {\n",
              "    border: 2px solid var(--fill-color);\n",
              "    border-color: transparent;\n",
              "    border-bottom-color: var(--fill-color);\n",
              "    animation:\n",
              "      spin 1s steps(1) infinite;\n",
              "  }\n",
              "\n",
              "  @keyframes spin {\n",
              "    0% {\n",
              "      border-color: transparent;\n",
              "      border-bottom-color: var(--fill-color);\n",
              "      border-left-color: var(--fill-color);\n",
              "    }\n",
              "    20% {\n",
              "      border-color: transparent;\n",
              "      border-left-color: var(--fill-color);\n",
              "      border-top-color: var(--fill-color);\n",
              "    }\n",
              "    30% {\n",
              "      border-color: transparent;\n",
              "      border-left-color: var(--fill-color);\n",
              "      border-top-color: var(--fill-color);\n",
              "      border-right-color: var(--fill-color);\n",
              "    }\n",
              "    40% {\n",
              "      border-color: transparent;\n",
              "      border-right-color: var(--fill-color);\n",
              "      border-top-color: var(--fill-color);\n",
              "    }\n",
              "    60% {\n",
              "      border-color: transparent;\n",
              "      border-right-color: var(--fill-color);\n",
              "    }\n",
              "    80% {\n",
              "      border-color: transparent;\n",
              "      border-right-color: var(--fill-color);\n",
              "      border-bottom-color: var(--fill-color);\n",
              "    }\n",
              "    90% {\n",
              "      border-color: transparent;\n",
              "      border-bottom-color: var(--fill-color);\n",
              "    }\n",
              "  }\n",
              "</style>\n",
              "\n",
              "  <script>\n",
              "    async function quickchart(key) {\n",
              "      const quickchartButtonEl =\n",
              "        document.querySelector('#' + key + ' button');\n",
              "      quickchartButtonEl.disabled = true;  // To prevent multiple clicks.\n",
              "      quickchartButtonEl.classList.add('colab-df-spinner');\n",
              "      try {\n",
              "        const charts = await google.colab.kernel.invokeFunction(\n",
              "            'suggestCharts', [key], {});\n",
              "      } catch (error) {\n",
              "        console.error('Error during call to suggestCharts:', error);\n",
              "      }\n",
              "      quickchartButtonEl.classList.remove('colab-df-spinner');\n",
              "      quickchartButtonEl.classList.add('colab-df-quickchart-complete');\n",
              "    }\n",
              "    (() => {\n",
              "      let quickchartButtonEl =\n",
              "        document.querySelector('#df-2ebf0ed1-f6d6-4bdb-9aa9-b9220b03a1d9 button');\n",
              "      quickchartButtonEl.style.display =\n",
              "        google.colab.kernel.accessAllowed ? 'block' : 'none';\n",
              "    })();\n",
              "  </script>\n",
              "</div>\n",
              "\n",
              "  <div id=\"id_4d3c1cc1-8d11-4fa0-89c2-1f47cf0c4924\">\n",
              "    <style>\n",
              "      .colab-df-generate {\n",
              "        background-color: #E8F0FE;\n",
              "        border: none;\n",
              "        border-radius: 50%;\n",
              "        cursor: pointer;\n",
              "        display: none;\n",
              "        fill: #1967D2;\n",
              "        height: 32px;\n",
              "        padding: 0 0 0 0;\n",
              "        width: 32px;\n",
              "      }\n",
              "\n",
              "      .colab-df-generate:hover {\n",
              "        background-color: #E2EBFA;\n",
              "        box-shadow: 0px 1px 2px rgba(60, 64, 67, 0.3), 0px 1px 3px 1px rgba(60, 64, 67, 0.15);\n",
              "        fill: #174EA6;\n",
              "      }\n",
              "\n",
              "      [theme=dark] .colab-df-generate {\n",
              "        background-color: #3B4455;\n",
              "        fill: #D2E3FC;\n",
              "      }\n",
              "\n",
              "      [theme=dark] .colab-df-generate:hover {\n",
              "        background-color: #434B5C;\n",
              "        box-shadow: 0px 1px 3px 1px rgba(0, 0, 0, 0.15);\n",
              "        filter: drop-shadow(0px 1px 2px rgba(0, 0, 0, 0.3));\n",
              "        fill: #FFFFFF;\n",
              "      }\n",
              "    </style>\n",
              "    <button class=\"colab-df-generate\" onclick=\"generateWithVariable('df')\"\n",
              "            title=\"Generate code using this dataframe.\"\n",
              "            style=\"display:none;\">\n",
              "\n",
              "  <svg xmlns=\"http://www.w3.org/2000/svg\" height=\"24px\"viewBox=\"0 0 24 24\"\n",
              "       width=\"24px\">\n",
              "    <path d=\"M7,19H8.4L18.45,9,17,7.55,7,17.6ZM5,21V16.75L18.45,3.32a2,2,0,0,1,2.83,0l1.4,1.43a1.91,1.91,0,0,1,.58,1.4,1.91,1.91,0,0,1-.58,1.4L9.25,21ZM18.45,9,17,7.55Zm-12,3A5.31,5.31,0,0,0,4.9,8.1,5.31,5.31,0,0,0,1,6.5,5.31,5.31,0,0,0,4.9,4.9,5.31,5.31,0,0,0,6.5,1,5.31,5.31,0,0,0,8.1,4.9,5.31,5.31,0,0,0,12,6.5,5.46,5.46,0,0,0,6.5,12Z\"/>\n",
              "  </svg>\n",
              "    </button>\n",
              "    <script>\n",
              "      (() => {\n",
              "      const buttonEl =\n",
              "        document.querySelector('#id_4d3c1cc1-8d11-4fa0-89c2-1f47cf0c4924 button.colab-df-generate');\n",
              "      buttonEl.style.display =\n",
              "        google.colab.kernel.accessAllowed ? 'block' : 'none';\n",
              "\n",
              "      buttonEl.onclick = () => {\n",
              "        google.colab.notebook.generateWithVariable('df');\n",
              "      }\n",
              "      })();\n",
              "    </script>\n",
              "  </div>\n",
              "\n",
              "    </div>\n",
              "  </div>\n"
            ],
            "text/plain": [
              "                             id  \\\n",
              "0      5733be284776f41900661182   \n",
              "1      5733be284776f4190066117f   \n",
              "2      5733be284776f41900661180   \n",
              "3      5733be284776f41900661181   \n",
              "4      5733be284776f4190066117e   \n",
              "...                         ...   \n",
              "87594  5735d259012e2f140011a09d   \n",
              "87595  5735d259012e2f140011a09e   \n",
              "87596  5735d259012e2f140011a09f   \n",
              "87597  5735d259012e2f140011a0a0   \n",
              "87598  5735d259012e2f140011a0a1   \n",
              "\n",
              "                                                question  \\\n",
              "0      To whom did the Virgin Mary allegedly appear i...   \n",
              "1      What is in front of the Notre Dame Main Building?   \n",
              "2      The Basilica of the Sacred heart at Notre Dame...   \n",
              "3                      What is the Grotto at Notre Dame?   \n",
              "4      What sits on top of the Main Building at Notre...   \n",
              "...                                                  ...   \n",
              "87594  In what US state did Kathmandu first establish...   \n",
              "87595               What was Yangon previously known as?   \n",
              "87596  With what Belorussian city does Kathmandu have...   \n",
              "87597  In what year did Kathmandu create its initial ...   \n",
              "87598                      What is KMC an initialism of?   \n",
              "\n",
              "                                                 context  answer_start  \\\n",
              "0      Architecturally, the school has a Catholic cha...           515   \n",
              "1      Architecturally, the school has a Catholic cha...           188   \n",
              "2      Architecturally, the school has a Catholic cha...           279   \n",
              "3      Architecturally, the school has a Catholic cha...           381   \n",
              "4      Architecturally, the school has a Catholic cha...            92   \n",
              "...                                                  ...           ...   \n",
              "87594  Kathmandu Metropolitan City (KMC), in order to...           229   \n",
              "87595  Kathmandu Metropolitan City (KMC), in order to...           414   \n",
              "87596  Kathmandu Metropolitan City (KMC), in order to...           476   \n",
              "87597  Kathmandu Metropolitan City (KMC), in order to...           199   \n",
              "87598  Kathmandu Metropolitan City (KMC), in order to...             0   \n",
              "\n",
              "                                       answers   c_id  \n",
              "0                   Saint Bernadette Soubirous      0  \n",
              "1                    a copper statue of Christ      0  \n",
              "2                            the Main Building      0  \n",
              "3      a Marian place of prayer and reflection      0  \n",
              "4           a golden statue of the Virgin Mary      0  \n",
              "...                                        ...    ...  \n",
              "87594                                   Oregon  18890  \n",
              "87595                                  Rangoon  18890  \n",
              "87596                                    Minsk  18890  \n",
              "87597                                     1975  18890  \n",
              "87598              Kathmandu Metropolitan City  18890  \n",
              "\n",
              "[87599 rows x 6 columns]"
            ]
          },
          "execution_count": 23,
          "metadata": {},
          "output_type": "execute_result"
        }
      ],
      "source": [
        "# loading the data\n",
        "file_path = '/content/drive/MyDrive/Colab Notebooks/Chatbot_Project/train-v1.1.json'\n",
        "df = squad1_json_to_dataframe(file_path, record_path=['data', 'paragraphs', 'qas', 'answers'])\n",
        "df"
      ]
    },
    {
      "cell_type": "markdown",
      "metadata": {
        "id": "5C8LhPSSp_RF"
      },
      "source": [
        "## Data Exploration\n"
      ]
    },
    {
      "cell_type": "code",
      "execution_count": 23,
      "metadata": {
        "id": "0Rp-AMsFqSRQ"
      },
      "outputs": [],
      "source": []
    },
    {
      "cell_type": "markdown",
      "metadata": {
        "id": "U_rWf7CtqENR"
      },
      "source": [
        "## Text Preprocessing"
      ]
    },
    {
      "cell_type": "code",
      "execution_count": 23,
      "metadata": {
        "id": "K0WYoUE3qR4I"
      },
      "outputs": [],
      "source": []
    },
    {
      "cell_type": "markdown",
      "metadata": {
        "id": "uQ2rZKhvqKrs"
      },
      "source": [
        "## Model Design and Training"
      ]
    },
    {
      "cell_type": "code",
      "execution_count": 23,
      "metadata": {
        "id": "sArIoimAqOla"
      },
      "outputs": [],
      "source": []
    },
    {
      "cell_type": "markdown",
      "metadata": {
        "id": "nCnyMtJrqPOb"
      },
      "source": [
        "## Evaluation"
      ]
    },
    {
      "cell_type": "code",
      "execution_count": 23,
      "metadata": {
        "id": "_4MrIs4YqRFS"
      },
      "outputs": [],
      "source": []
    },
    {
      "cell_type": "code",
      "execution_count": 1,
      "metadata": {},
      "outputs": [
        {
          "name": "stderr",
          "output_type": "stream",
          "text": [
            "/opt/anaconda3/envs/aai_env/lib/python3.10/site-packages/sentence_transformers/cross_encoder/CrossEncoder.py:13: TqdmWarning: IProgress not found. Please update jupyter and ipywidgets. See https://ipywidgets.readthedocs.io/en/stable/user_install.html\n",
            "  from tqdm.autonotebook import tqdm, trange\n"
          ]
        }
      ],
      "source": [
        "from fastapi import FastAPI, HTTPException\n",
        "from langchain.prompts import ChatPromptTemplate\n",
        "from langchain.chains import create_retrieval_chain\n",
        "from langchain_community.llms import Ollama\n",
        "from langchain_community.document_loaders import DataFrameLoader\n",
        "from langchain_community.vectorstores import Chroma\n",
        "from langchain.text_splitter import RecursiveCharacterTextSplitter\n",
        "from langchain.chains.combine_documents import create_stuff_documents_chain\n",
        "from sentence_transformers import SentenceTransformer\n",
        "from langchain_community.embeddings import HuggingFaceEmbeddings\n",
        "from langchain_core.load import dumpd, dumps, load, loads\n",
        "from langchain.chains import load_chain\n",
        "from langserve import add_routes\n",
        "from langchain_core.runnables import RunnableBinding, RunnableLambda\n",
        "from pathlib import Path\n",
        "from dotenv import load_dotenv\n",
        "import uvicorn\n",
        "import pandas as pd\n",
        "import json\n",
        "import os\n",
        "import json\n",
        "import torch\n",
        "import numpy as np\n",
        "import logging  "
      ]
    },
    {
      "cell_type": "code",
      "execution_count": 8,
      "metadata": {},
      "outputs": [],
      "source": [
        "def squad1_json_to_dataframe(file_path, record_path=['data', 'paragraphs', 'qas', 'answers']):\n",
        "    \"\"\"\n",
        "    Functuon to convert the dataset JSON file to a Pandas DataFrame.\n",
        "\n",
        "    file_path (str): Path to the JSON file\n",
        "    record_path (list): Path to the deepest level in the JSON structure (default is ['data', 'paragraphs', 'qas', 'answers']).\n",
        "\n",
        "    Returns dataFrame containing the parsed data.\n",
        "    \"\"\"\n",
        "    # Load JSON data\n",
        "    with open(file_path, 'r') as f:\n",
        "        file_data = json.load(f)\n",
        "\n",
        "    # Extract and normalize the nested JSON structures\n",
        "    answers_df = pd.json_normalize(file_data, record_path)\n",
        "    questions_df = pd.json_normalize(file_data, record_path[:-1])\n",
        "    paragraphs_df = pd.json_normalize(file_data, record_path[:-2])\n",
        "\n",
        "    # Create 'context' by repeating the corresponding paragraph for each question\n",
        "    questions_df['context'] = np.repeat(paragraphs_df['context'].values, paragraphs_df.qas.str.len())\n",
        "\n",
        "    # Create final DataFrame with necessary columns\n",
        "    data = questions_df[['id', 'question', 'context', 'answers']].copy()\n",
        "\n",
        "    # Extract text and start positions to separate column\n",
        "    data['answer_text'] = data['answers'].apply(lambda x: x[0]['text'] if len(x) > 0 else \"\")\n",
        "    data['answer_start'] = data['answers'].apply(lambda x: x[0]['answer_start'] if len(x) > 0 else None)\n",
        "\n",
        "    # Add 'c_id' to uniquely identify each context\n",
        "    data['c_id'] = pd.factorize(data['context'])[0]\n",
        "\n",
        "    return data.reset_index(drop=True)"
      ]
    },
    {
      "cell_type": "code",
      "execution_count": 10,
      "metadata": {},
      "outputs": [],
      "source": [
        "if torch.backends.mps.is_available():\n",
        "    device = torch.device(\"mps\")\n",
        "else:\n",
        "    device = torch.device(\"cpu\")"
      ]
    },
    {
      "cell_type": "code",
      "execution_count": 25,
      "metadata": {},
      "outputs": [
        {
          "name": "stderr",
          "output_type": "stream",
          "text": [
            "/var/folders/0_/skr2d259613gs33jbnv_ytn80000gn/T/ipykernel_98616/513800331.py:29: LangChainDeprecationWarning: The class `Chroma` was deprecated in LangChain 0.2.9 and will be removed in 1.0. An updated version of the class exists in the :class:`~langchain-chroma package and should be used instead. To use it run `pip install -U :class:`~langchain-chroma` and import as `from :class:`~langchain_chroma import Chroma``.\n",
            "  vector_db = Chroma(persist_directory=\"/\")\n"
          ]
        },
        {
          "ename": "OperationalError",
          "evalue": "unable to open database file",
          "output_type": "error",
          "traceback": [
            "\u001b[0;31m---------------------------------------------------------------------------\u001b[0m",
            "\u001b[0;31mOperationalError\u001b[0m                          Traceback (most recent call last)",
            "Cell \u001b[0;32mIn[25], line 29\u001b[0m\n\u001b[1;32m     25\u001b[0m logging\u001b[38;5;241m.\u001b[39minfo(\u001b[38;5;124m\"\u001b[39m\u001b[38;5;124mLoading to vector db\u001b[39m\u001b[38;5;124m\"\u001b[39m)\n\u001b[1;32m     27\u001b[0m db \u001b[38;5;241m=\u001b[39m Chroma\u001b[38;5;241m.\u001b[39mfrom_documents(documents, embeddings)\n\u001b[0;32m---> 29\u001b[0m vector_db \u001b[38;5;241m=\u001b[39m \u001b[43mChroma\u001b[49m\u001b[43m(\u001b[49m\u001b[43mpersist_directory\u001b[49m\u001b[38;5;241;43m=\u001b[39;49m\u001b[38;5;124;43m\"\u001b[39;49m\u001b[38;5;124;43m/\u001b[39;49m\u001b[38;5;124;43m\"\u001b[39;49m\u001b[43m)\u001b[49m\n\u001b[1;32m     31\u001b[0m logging\u001b[38;5;241m.\u001b[39minfo(\u001b[38;5;124m\"\u001b[39m\u001b[38;5;124minitialize retriever\u001b[39m\u001b[38;5;124m\"\u001b[39m)\n\u001b[1;32m     32\u001b[0m retriever \u001b[38;5;241m=\u001b[39m db\u001b[38;5;241m.\u001b[39mas_retriever()\n",
            "File \u001b[0;32m/opt/anaconda3/envs/aai_env/lib/python3.10/site-packages/langchain_core/_api/deprecation.py:216\u001b[0m, in \u001b[0;36mdeprecated.<locals>.deprecate.<locals>.finalize.<locals>.warn_if_direct_instance\u001b[0;34m(self, *args, **kwargs)\u001b[0m\n\u001b[1;32m    214\u001b[0m     warned \u001b[38;5;241m=\u001b[39m \u001b[38;5;28;01mTrue\u001b[39;00m\n\u001b[1;32m    215\u001b[0m     emit_warning()\n\u001b[0;32m--> 216\u001b[0m \u001b[38;5;28;01mreturn\u001b[39;00m \u001b[43mwrapped\u001b[49m\u001b[43m(\u001b[49m\u001b[38;5;28;43mself\u001b[39;49m\u001b[43m,\u001b[49m\u001b[43m \u001b[49m\u001b[38;5;241;43m*\u001b[39;49m\u001b[43margs\u001b[49m\u001b[43m,\u001b[49m\u001b[43m \u001b[49m\u001b[38;5;241;43m*\u001b[39;49m\u001b[38;5;241;43m*\u001b[39;49m\u001b[43mkwargs\u001b[49m\u001b[43m)\u001b[49m\n",
            "File \u001b[0;32m/opt/anaconda3/envs/aai_env/lib/python3.10/site-packages/langchain_community/vectorstores/chroma.py:122\u001b[0m, in \u001b[0;36mChroma.__init__\u001b[0;34m(self, collection_name, embedding_function, persist_directory, client_settings, collection_metadata, client, relevance_score_fn)\u001b[0m\n\u001b[1;32m    120\u001b[0m         _client_settings \u001b[38;5;241m=\u001b[39m chromadb\u001b[38;5;241m.\u001b[39mconfig\u001b[38;5;241m.\u001b[39mSettings()\n\u001b[1;32m    121\u001b[0m     \u001b[38;5;28mself\u001b[39m\u001b[38;5;241m.\u001b[39m_client_settings \u001b[38;5;241m=\u001b[39m _client_settings\n\u001b[0;32m--> 122\u001b[0m     \u001b[38;5;28mself\u001b[39m\u001b[38;5;241m.\u001b[39m_client \u001b[38;5;241m=\u001b[39m \u001b[43mchromadb\u001b[49m\u001b[38;5;241;43m.\u001b[39;49m\u001b[43mClient\u001b[49m\u001b[43m(\u001b[49m\u001b[43m_client_settings\u001b[49m\u001b[43m)\u001b[49m\n\u001b[1;32m    123\u001b[0m     \u001b[38;5;28mself\u001b[39m\u001b[38;5;241m.\u001b[39m_persist_directory \u001b[38;5;241m=\u001b[39m (\n\u001b[1;32m    124\u001b[0m         _client_settings\u001b[38;5;241m.\u001b[39mpersist_directory \u001b[38;5;129;01mor\u001b[39;00m persist_directory\n\u001b[1;32m    125\u001b[0m     )\n\u001b[1;32m    127\u001b[0m \u001b[38;5;28mself\u001b[39m\u001b[38;5;241m.\u001b[39m_embedding_function \u001b[38;5;241m=\u001b[39m embedding_function\n",
            "File \u001b[0;32m/opt/anaconda3/envs/aai_env/lib/python3.10/site-packages/chromadb/__init__.py:334\u001b[0m, in \u001b[0;36mClient\u001b[0;34m(settings, tenant, database)\u001b[0m\n\u001b[1;32m    331\u001b[0m tenant \u001b[38;5;241m=\u001b[39m \u001b[38;5;28mstr\u001b[39m(tenant)\n\u001b[1;32m    332\u001b[0m database \u001b[38;5;241m=\u001b[39m \u001b[38;5;28mstr\u001b[39m(database)\n\u001b[0;32m--> 334\u001b[0m \u001b[38;5;28;01mreturn\u001b[39;00m \u001b[43mClientCreator\u001b[49m\u001b[43m(\u001b[49m\u001b[43mtenant\u001b[49m\u001b[38;5;241;43m=\u001b[39;49m\u001b[43mtenant\u001b[49m\u001b[43m,\u001b[49m\u001b[43m \u001b[49m\u001b[43mdatabase\u001b[49m\u001b[38;5;241;43m=\u001b[39;49m\u001b[43mdatabase\u001b[49m\u001b[43m,\u001b[49m\u001b[43m \u001b[49m\u001b[43msettings\u001b[49m\u001b[38;5;241;43m=\u001b[39;49m\u001b[43msettings\u001b[49m\u001b[43m)\u001b[49m\n",
            "File \u001b[0;32m/opt/anaconda3/envs/aai_env/lib/python3.10/site-packages/chromadb/api/client.py:56\u001b[0m, in \u001b[0;36mClient.__init__\u001b[0;34m(self, tenant, database, settings)\u001b[0m\n\u001b[1;32m     50\u001b[0m \u001b[38;5;28;01mdef\u001b[39;00m \u001b[38;5;21m__init__\u001b[39m(\n\u001b[1;32m     51\u001b[0m     \u001b[38;5;28mself\u001b[39m,\n\u001b[1;32m     52\u001b[0m     tenant: \u001b[38;5;28mstr\u001b[39m \u001b[38;5;241m=\u001b[39m DEFAULT_TENANT,\n\u001b[1;32m     53\u001b[0m     database: \u001b[38;5;28mstr\u001b[39m \u001b[38;5;241m=\u001b[39m DEFAULT_DATABASE,\n\u001b[1;32m     54\u001b[0m     settings: Settings \u001b[38;5;241m=\u001b[39m Settings(),\n\u001b[1;32m     55\u001b[0m ) \u001b[38;5;241m-\u001b[39m\u001b[38;5;241m>\u001b[39m \u001b[38;5;28;01mNone\u001b[39;00m:\n\u001b[0;32m---> 56\u001b[0m     \u001b[38;5;28;43msuper\u001b[39;49m\u001b[43m(\u001b[49m\u001b[43m)\u001b[49m\u001b[38;5;241;43m.\u001b[39;49m\u001b[38;5;21;43m__init__\u001b[39;49m\u001b[43m(\u001b[49m\u001b[43msettings\u001b[49m\u001b[38;5;241;43m=\u001b[39;49m\u001b[43msettings\u001b[49m\u001b[43m)\u001b[49m\n\u001b[1;32m     57\u001b[0m     \u001b[38;5;28mself\u001b[39m\u001b[38;5;241m.\u001b[39mtenant \u001b[38;5;241m=\u001b[39m tenant\n\u001b[1;32m     58\u001b[0m     \u001b[38;5;28mself\u001b[39m\u001b[38;5;241m.\u001b[39mdatabase \u001b[38;5;241m=\u001b[39m database\n",
            "File \u001b[0;32m/opt/anaconda3/envs/aai_env/lib/python3.10/site-packages/chromadb/api/shared_system_client.py:19\u001b[0m, in \u001b[0;36mSharedSystemClient.__init__\u001b[0;34m(self, settings)\u001b[0m\n\u001b[1;32m     14\u001b[0m \u001b[38;5;28;01mdef\u001b[39;00m \u001b[38;5;21m__init__\u001b[39m(\n\u001b[1;32m     15\u001b[0m     \u001b[38;5;28mself\u001b[39m,\n\u001b[1;32m     16\u001b[0m     settings: Settings \u001b[38;5;241m=\u001b[39m Settings(),\n\u001b[1;32m     17\u001b[0m ) \u001b[38;5;241m-\u001b[39m\u001b[38;5;241m>\u001b[39m \u001b[38;5;28;01mNone\u001b[39;00m:\n\u001b[1;32m     18\u001b[0m     \u001b[38;5;28mself\u001b[39m\u001b[38;5;241m.\u001b[39m_identifier \u001b[38;5;241m=\u001b[39m SharedSystemClient\u001b[38;5;241m.\u001b[39m_get_identifier_from_settings(settings)\n\u001b[0;32m---> 19\u001b[0m     \u001b[43mSharedSystemClient\u001b[49m\u001b[38;5;241;43m.\u001b[39;49m\u001b[43m_create_system_if_not_exists\u001b[49m\u001b[43m(\u001b[49m\u001b[38;5;28;43mself\u001b[39;49m\u001b[38;5;241;43m.\u001b[39;49m\u001b[43m_identifier\u001b[49m\u001b[43m,\u001b[49m\u001b[43m \u001b[49m\u001b[43msettings\u001b[49m\u001b[43m)\u001b[49m\n",
            "File \u001b[0;32m/opt/anaconda3/envs/aai_env/lib/python3.10/site-packages/chromadb/api/shared_system_client.py:32\u001b[0m, in \u001b[0;36mSharedSystemClient._create_system_if_not_exists\u001b[0;34m(cls, identifier, settings)\u001b[0m\n\u001b[1;32m     29\u001b[0m     new_system\u001b[38;5;241m.\u001b[39minstance(ProductTelemetryClient)\n\u001b[1;32m     30\u001b[0m     new_system\u001b[38;5;241m.\u001b[39minstance(ServerAPI)\n\u001b[0;32m---> 32\u001b[0m     \u001b[43mnew_system\u001b[49m\u001b[38;5;241;43m.\u001b[39;49m\u001b[43mstart\u001b[49m\u001b[43m(\u001b[49m\u001b[43m)\u001b[49m\n\u001b[1;32m     33\u001b[0m \u001b[38;5;28;01melse\u001b[39;00m:\n\u001b[1;32m     34\u001b[0m     previous_system \u001b[38;5;241m=\u001b[39m \u001b[38;5;28mcls\u001b[39m\u001b[38;5;241m.\u001b[39m_identifier_to_system[identifier]\n",
            "File \u001b[0;32m/opt/anaconda3/envs/aai_env/lib/python3.10/site-packages/chromadb/config.py:429\u001b[0m, in \u001b[0;36mSystem.start\u001b[0;34m(self)\u001b[0m\n\u001b[1;32m    427\u001b[0m \u001b[38;5;28msuper\u001b[39m()\u001b[38;5;241m.\u001b[39mstart()\n\u001b[1;32m    428\u001b[0m \u001b[38;5;28;01mfor\u001b[39;00m component \u001b[38;5;129;01min\u001b[39;00m \u001b[38;5;28mself\u001b[39m\u001b[38;5;241m.\u001b[39mcomponents():\n\u001b[0;32m--> 429\u001b[0m     \u001b[43mcomponent\u001b[49m\u001b[38;5;241;43m.\u001b[39;49m\u001b[43mstart\u001b[49m\u001b[43m(\u001b[49m\u001b[43m)\u001b[49m\n",
            "File \u001b[0;32m/opt/anaconda3/envs/aai_env/lib/python3.10/site-packages/chromadb/telemetry/opentelemetry/__init__.py:146\u001b[0m, in \u001b[0;36mtrace_method.<locals>.decorator.<locals>.wrapper\u001b[0;34m(*args, **kwargs)\u001b[0m\n\u001b[1;32m    144\u001b[0m \u001b[38;5;28;01mglobal\u001b[39;00m tracer, granularity\n\u001b[1;32m    145\u001b[0m \u001b[38;5;28;01mif\u001b[39;00m trace_granularity \u001b[38;5;241m<\u001b[39m granularity:\n\u001b[0;32m--> 146\u001b[0m     \u001b[38;5;28;01mreturn\u001b[39;00m \u001b[43mf\u001b[49m\u001b[43m(\u001b[49m\u001b[38;5;241;43m*\u001b[39;49m\u001b[43margs\u001b[49m\u001b[43m,\u001b[49m\u001b[43m \u001b[49m\u001b[38;5;241;43m*\u001b[39;49m\u001b[38;5;241;43m*\u001b[39;49m\u001b[43mkwargs\u001b[49m\u001b[43m)\u001b[49m\n\u001b[1;32m    147\u001b[0m \u001b[38;5;28;01mif\u001b[39;00m \u001b[38;5;129;01mnot\u001b[39;00m tracer:\n\u001b[1;32m    148\u001b[0m     \u001b[38;5;28;01mreturn\u001b[39;00m f(\u001b[38;5;241m*\u001b[39margs, \u001b[38;5;241m*\u001b[39m\u001b[38;5;241m*\u001b[39mkwargs)\n",
            "File \u001b[0;32m/opt/anaconda3/envs/aai_env/lib/python3.10/site-packages/chromadb/db/impl/sqlite.py:101\u001b[0m, in \u001b[0;36mSqliteDB.start\u001b[0;34m(self)\u001b[0m\n\u001b[1;32m     97\u001b[0m \u001b[38;5;129m@trace_method\u001b[39m(\u001b[38;5;124m\"\u001b[39m\u001b[38;5;124mSqliteDB.start\u001b[39m\u001b[38;5;124m\"\u001b[39m, OpenTelemetryGranularity\u001b[38;5;241m.\u001b[39mALL)\n\u001b[1;32m     98\u001b[0m \u001b[38;5;129m@override\u001b[39m\n\u001b[1;32m     99\u001b[0m \u001b[38;5;28;01mdef\u001b[39;00m \u001b[38;5;21mstart\u001b[39m(\u001b[38;5;28mself\u001b[39m) \u001b[38;5;241m-\u001b[39m\u001b[38;5;241m>\u001b[39m \u001b[38;5;28;01mNone\u001b[39;00m:\n\u001b[1;32m    100\u001b[0m     \u001b[38;5;28msuper\u001b[39m()\u001b[38;5;241m.\u001b[39mstart()\n\u001b[0;32m--> 101\u001b[0m     \u001b[38;5;28;01mwith\u001b[39;00m \u001b[38;5;28;43mself\u001b[39;49m\u001b[38;5;241;43m.\u001b[39;49m\u001b[43mtx\u001b[49m\u001b[43m(\u001b[49m\u001b[43m)\u001b[49m \u001b[38;5;28;01mas\u001b[39;00m cur:\n\u001b[1;32m    102\u001b[0m         cur\u001b[38;5;241m.\u001b[39mexecute(\u001b[38;5;124m\"\u001b[39m\u001b[38;5;124mPRAGMA foreign_keys = ON\u001b[39m\u001b[38;5;124m\"\u001b[39m)\n\u001b[1;32m    103\u001b[0m         cur\u001b[38;5;241m.\u001b[39mexecute(\u001b[38;5;124m\"\u001b[39m\u001b[38;5;124mPRAGMA case_sensitive_like = ON\u001b[39m\u001b[38;5;124m\"\u001b[39m)\n",
            "File \u001b[0;32m/opt/anaconda3/envs/aai_env/lib/python3.10/site-packages/chromadb/db/impl/sqlite.py:144\u001b[0m, in \u001b[0;36mSqliteDB.tx\u001b[0;34m(self)\u001b[0m\n\u001b[1;32m    142\u001b[0m \u001b[38;5;28;01mif\u001b[39;00m \u001b[38;5;129;01mnot\u001b[39;00m \u001b[38;5;28mhasattr\u001b[39m(\u001b[38;5;28mself\u001b[39m\u001b[38;5;241m.\u001b[39m_tx_stack, \u001b[38;5;124m\"\u001b[39m\u001b[38;5;124mstack\u001b[39m\u001b[38;5;124m\"\u001b[39m):\n\u001b[1;32m    143\u001b[0m     \u001b[38;5;28mself\u001b[39m\u001b[38;5;241m.\u001b[39m_tx_stack\u001b[38;5;241m.\u001b[39mstack \u001b[38;5;241m=\u001b[39m []\n\u001b[0;32m--> 144\u001b[0m \u001b[38;5;28;01mreturn\u001b[39;00m \u001b[43mTxWrapper\u001b[49m\u001b[43m(\u001b[49m\u001b[38;5;28;43mself\u001b[39;49m\u001b[38;5;241;43m.\u001b[39;49m\u001b[43m_conn_pool\u001b[49m\u001b[43m,\u001b[49m\u001b[43m \u001b[49m\u001b[43mstack\u001b[49m\u001b[38;5;241;43m=\u001b[39;49m\u001b[38;5;28;43mself\u001b[39;49m\u001b[38;5;241;43m.\u001b[39;49m\u001b[43m_tx_stack\u001b[49m\u001b[43m)\u001b[49m\n",
            "File \u001b[0;32m/opt/anaconda3/envs/aai_env/lib/python3.10/site-packages/chromadb/db/impl/sqlite.py:34\u001b[0m, in \u001b[0;36mTxWrapper.__init__\u001b[0;34m(self, conn_pool, stack)\u001b[0m\n\u001b[1;32m     32\u001b[0m \u001b[38;5;28;01mdef\u001b[39;00m \u001b[38;5;21m__init__\u001b[39m(\u001b[38;5;28mself\u001b[39m, conn_pool: Pool, stack: local):\n\u001b[1;32m     33\u001b[0m     \u001b[38;5;28mself\u001b[39m\u001b[38;5;241m.\u001b[39m_tx_stack \u001b[38;5;241m=\u001b[39m stack\n\u001b[0;32m---> 34\u001b[0m     \u001b[38;5;28mself\u001b[39m\u001b[38;5;241m.\u001b[39m_conn \u001b[38;5;241m=\u001b[39m \u001b[43mconn_pool\u001b[49m\u001b[38;5;241;43m.\u001b[39;49m\u001b[43mconnect\u001b[49m\u001b[43m(\u001b[49m\u001b[43m)\u001b[49m\n\u001b[1;32m     35\u001b[0m     \u001b[38;5;28mself\u001b[39m\u001b[38;5;241m.\u001b[39m_pool \u001b[38;5;241m=\u001b[39m conn_pool\n",
            "File \u001b[0;32m/opt/anaconda3/envs/aai_env/lib/python3.10/site-packages/chromadb/db/impl/sqlite_pool.py:144\u001b[0m, in \u001b[0;36mPerThreadPool.connect\u001b[0;34m(self, *args, **kwargs)\u001b[0m\n\u001b[1;32m    142\u001b[0m     \u001b[38;5;28;01mreturn\u001b[39;00m \u001b[38;5;28mself\u001b[39m\u001b[38;5;241m.\u001b[39m_connection\u001b[38;5;241m.\u001b[39mconn  \u001b[38;5;66;03m# type: ignore # cast doesn't work here for some reason\u001b[39;00m\n\u001b[1;32m    143\u001b[0m \u001b[38;5;28;01melse\u001b[39;00m:\n\u001b[0;32m--> 144\u001b[0m     new_connection \u001b[38;5;241m=\u001b[39m \u001b[43mConnection\u001b[49m\u001b[43m(\u001b[49m\n\u001b[1;32m    145\u001b[0m \u001b[43m        \u001b[49m\u001b[38;5;28;43mself\u001b[39;49m\u001b[43m,\u001b[49m\u001b[43m \u001b[49m\u001b[38;5;28;43mself\u001b[39;49m\u001b[38;5;241;43m.\u001b[39;49m\u001b[43m_db_file\u001b[49m\u001b[43m,\u001b[49m\u001b[43m \u001b[49m\u001b[38;5;28;43mself\u001b[39;49m\u001b[38;5;241;43m.\u001b[39;49m\u001b[43m_is_uri\u001b[49m\u001b[43m,\u001b[49m\u001b[43m \u001b[49m\u001b[38;5;241;43m*\u001b[39;49m\u001b[43margs\u001b[49m\u001b[43m,\u001b[49m\u001b[43m \u001b[49m\u001b[38;5;241;43m*\u001b[39;49m\u001b[38;5;241;43m*\u001b[39;49m\u001b[43mkwargs\u001b[49m\n\u001b[1;32m    146\u001b[0m \u001b[43m    \u001b[49m\u001b[43m)\u001b[49m\n\u001b[1;32m    147\u001b[0m     \u001b[38;5;28mself\u001b[39m\u001b[38;5;241m.\u001b[39m_connection\u001b[38;5;241m.\u001b[39mconn \u001b[38;5;241m=\u001b[39m new_connection\n\u001b[1;32m    148\u001b[0m     \u001b[38;5;28;01mwith\u001b[39;00m \u001b[38;5;28mself\u001b[39m\u001b[38;5;241m.\u001b[39m_lock:\n",
            "File \u001b[0;32m/opt/anaconda3/envs/aai_env/lib/python3.10/site-packages/chromadb/db/impl/sqlite_pool.py:22\u001b[0m, in \u001b[0;36mConnection.__init__\u001b[0;34m(self, pool, db_file, is_uri, *args, **kwargs)\u001b[0m\n\u001b[1;32m     20\u001b[0m \u001b[38;5;28mself\u001b[39m\u001b[38;5;241m.\u001b[39m_pool \u001b[38;5;241m=\u001b[39m pool\n\u001b[1;32m     21\u001b[0m \u001b[38;5;28mself\u001b[39m\u001b[38;5;241m.\u001b[39m_db_file \u001b[38;5;241m=\u001b[39m db_file\n\u001b[0;32m---> 22\u001b[0m \u001b[38;5;28mself\u001b[39m\u001b[38;5;241m.\u001b[39m_conn \u001b[38;5;241m=\u001b[39m \u001b[43msqlite3\u001b[49m\u001b[38;5;241;43m.\u001b[39;49m\u001b[43mconnect\u001b[49m\u001b[43m(\u001b[49m\n\u001b[1;32m     23\u001b[0m \u001b[43m    \u001b[49m\u001b[43mdb_file\u001b[49m\u001b[43m,\u001b[49m\u001b[43m \u001b[49m\u001b[43mtimeout\u001b[49m\u001b[38;5;241;43m=\u001b[39;49m\u001b[38;5;241;43m1000\u001b[39;49m\u001b[43m,\u001b[49m\u001b[43m \u001b[49m\u001b[43mcheck_same_thread\u001b[49m\u001b[38;5;241;43m=\u001b[39;49m\u001b[38;5;28;43;01mFalse\u001b[39;49;00m\u001b[43m,\u001b[49m\u001b[43m \u001b[49m\u001b[43muri\u001b[49m\u001b[38;5;241;43m=\u001b[39;49m\u001b[43mis_uri\u001b[49m\u001b[43m,\u001b[49m\u001b[43m \u001b[49m\u001b[38;5;241;43m*\u001b[39;49m\u001b[43margs\u001b[49m\u001b[43m,\u001b[49m\u001b[43m \u001b[49m\u001b[38;5;241;43m*\u001b[39;49m\u001b[38;5;241;43m*\u001b[39;49m\u001b[43mkwargs\u001b[49m\n\u001b[1;32m     24\u001b[0m \u001b[43m\u001b[49m\u001b[43m)\u001b[49m  \u001b[38;5;66;03m# type: ignore\u001b[39;00m\n\u001b[1;32m     25\u001b[0m \u001b[38;5;28mself\u001b[39m\u001b[38;5;241m.\u001b[39m_conn\u001b[38;5;241m.\u001b[39misolation_level \u001b[38;5;241m=\u001b[39m \u001b[38;5;28;01mNone\u001b[39;00m\n",
            "\u001b[0;31mOperationalError\u001b[0m: unable to open database file"
          ]
        }
      ],
      "source": [
        "# Load the SQuAD dataset\n",
        "file_path = \"train-v1.1.json\"\n",
        "df = squad1_json_to_dataframe(file_path, record_path=['data', 'paragraphs', 'qas', 'answers'])\n",
        "df_context = pd.DataFrame(df['context'].unique(), columns=['context'])\n",
        "df_context = df_context[:100]\n",
        "\n",
        "# Load data into Langchain\n",
        "loader = DataFrameLoader(df_context, page_content_column=\"context\")\n",
        "docs = loader.load()\n",
        "\n",
        "logging.info(\"split documents into chunks.\")\n",
        "# Split documents into chunks\n",
        "text_splitter = RecursiveCharacterTextSplitter(chunk_size=1000, chunk_overlap=200)\n",
        "documents = text_splitter.split_documents(docs)\n",
        "\n",
        "logging.info(\"Creating embedding.\")\n",
        "\n",
        "\n",
        "# Initialize the SentenceTransformer model\n",
        "model_name = 'all-MiniLM-L6-v2'\n",
        "sentence_transformer_model = SentenceTransformer(model_name).to(device)\n",
        "\n",
        "# Wrap the SentenceTransformer model with LangChain's HuggingFaceEmbeddings\n",
        "embeddings = HuggingFaceEmbeddings(model_name=model_name)\n",
        "logging.info(\"Loading to vector db\")\n",
        "\n",
        "db = Chroma.from_documents(documents=documents, embedding=embeddings, persist_directory=\"./\")\n",
        "\n",
        "#db = Chroma.from_documents(documents, embeddings)\n",
        "\n",
        "\n",
        "logging.info(\"initialize retriever\")\n",
        "retriever = db.as_retriever()\n",
        "\n",
        "\n",
        "# Define the LLM and prompt template\n",
        "logging.info(\"initialize model and prompt.\")\n",
        "\n",
        "llm = Ollama(model=\"orca-mini\") \n",
        "#llm = Ollama(model=\"llama2\") \n",
        "\n",
        "\n",
        "\n",
        "prompt = ChatPromptTemplate.from_template(\"\"\"\n",
        "Answer the following question based only on the provided context. \n",
        "Think step by step before providing a detailed answer. \n",
        "<context>\n",
        "{context} \n",
        "</context>\n",
        "Question: {input}\"\"\")\n",
        "\n",
        "logging.info(prompt)\n",
        "\n",
        "logging.info(\"creating document chains.\")\n",
        "\n",
        "document_chain=create_stuff_documents_chain(llm, prompt)\n",
        "\n",
        "logging.info(\"creating retrieval chains.\")\n",
        "\n",
        "# Create the retrieval-based document chain\n",
        "retrieval_chain = create_retrieval_chain(retriever, document_chain)"
      ]
    },
    {
      "cell_type": "code",
      "execution_count": 12,
      "metadata": {},
      "outputs": [
        {
          "data": {
            "text/plain": [
              "langchain_core.runnables.base.RunnableBinding"
            ]
          },
          "execution_count": 12,
          "metadata": {},
          "output_type": "execute_result"
        }
      ],
      "source": [
        "type(retrieval_chain)"
      ]
    },
    {
      "cell_type": "code",
      "execution_count": 18,
      "metadata": {},
      "outputs": [
        {
          "name": "stdout",
          "output_type": "stream",
          "text": [
            "<class 'str'>\n"
          ]
        }
      ],
      "source": [
        "import pickle\n",
        "# Assume `retrieval_chain` is the object you want to save\n",
        "chain_dump = dumps(retrieval_chain, pretty=True)\n",
        "print(type(chain_dump))\n",
        "with open(\"retrieval_chain_nb.json\", \"w\") as fp:\n",
        "    json.dump(chain_dump, fp, indent=4)\n"
      ]
    },
    {
      "cell_type": "code",
      "execution_count": 22,
      "metadata": {},
      "outputs": [
        {
          "name": "stdout",
          "output_type": "stream",
          "text": [
            "JSON is valid.\n",
            "<class 'str'>\n"
          ]
        }
      ],
      "source": [
        "try:\n",
        "    # Replace 'retrieval_chain_nb.json' with the path to your JSON file\n",
        "    with open(\"retrieval_chain_nb.json\", \"r\") as fp:\n",
        "        config_data = json.load(fp)\n",
        "    print(\"JSON is valid.\")\n",
        "except json.JSONDecodeError as e:\n",
        "    print(\"Invalid JSON:\", e)\n",
        "retrieval_chain = load(config_data)\n",
        "print(type(retrieval_chain))"
      ]
    },
    {
      "cell_type": "code",
      "execution_count": 23,
      "metadata": {},
      "outputs": [
        {
          "ename": "AttributeError",
          "evalue": "'Chroma' object has no attribute 'Client'",
          "output_type": "error",
          "traceback": [
            "\u001b[0;31m---------------------------------------------------------------------------\u001b[0m",
            "\u001b[0;31mAttributeError\u001b[0m                            Traceback (most recent call last)",
            "Cell \u001b[0;32mIn[23], line 5\u001b[0m\n\u001b[1;32m      2\u001b[0m persist_directory \u001b[38;5;241m=\u001b[39m \u001b[38;5;124m\"\u001b[39m\u001b[38;5;124m/\u001b[39m\u001b[38;5;124m\"\u001b[39m\n\u001b[1;32m      4\u001b[0m \u001b[38;5;66;03m# Initialize the Chroma client with persistence enabled\u001b[39;00m\n\u001b[0;32m----> 5\u001b[0m client \u001b[38;5;241m=\u001b[39m \u001b[43mdb\u001b[49m\u001b[38;5;241;43m.\u001b[39;49m\u001b[43mClient\u001b[49m(persist_directory\u001b[38;5;241m=\u001b[39mpersist_directory)\n\u001b[1;32m      7\u001b[0m \u001b[38;5;66;03m# Create or load a collection with embeddings\u001b[39;00m\n\u001b[1;32m      8\u001b[0m collection \u001b[38;5;241m=\u001b[39m client\u001b[38;5;241m.\u001b[39mget_or_create_collection(name\u001b[38;5;241m=\u001b[39m\u001b[38;5;124m\"\u001b[39m\u001b[38;5;124mmy_collection\u001b[39m\u001b[38;5;124m\"\u001b[39m)\n",
            "\u001b[0;31mAttributeError\u001b[0m: 'Chroma' object has no attribute 'Client'"
          ]
        }
      ],
      "source": [
        "# Specify the directory where the database should be saved\n",
        "persist_directory = \"/\"\n",
        "\n",
        "# Initialize the Chroma client with persistence enabled\n",
        "client = db.Client(persist_directory=persist_directory)\n",
        "\n",
        "# Create or load a collection with embeddings\n",
        "collection = client.get_or_create_collection(name=\"my_collection\")\n",
        "\n",
        "# Add data to the collection (example)\n",
        "collection.add(\n",
        "    ids=[\"id1\", \"id2\"],\n",
        "    embeddings=[[0.1, 0.2, 0.3], [0.4, 0.5, 0.6]],\n",
        "    metadatas=[{\"source\": \"text1\"}, {\"source\": \"text2\"}],\n",
        "    documents=[\"This is a document\", \"This is another document\"]\n",
        ")\n",
        "\n",
        "# Persist the database to disk\n",
        "client.persist()\n",
        "\n",
        "print(f\"Database saved to: {persist_directory}\")"
      ]
    },
    {
      "cell_type": "code",
      "execution_count": null,
      "metadata": {},
      "outputs": [],
      "source": []
    },
    {
      "cell_type": "code",
      "execution_count": 3,
      "metadata": {},
      "outputs": [
        {
          "name": "stderr",
          "output_type": "stream",
          "text": [
            "/var/folders/0_/skr2d259613gs33jbnv_ytn80000gn/T/ipykernel_98616/3459818105.py:4: LangChainBetaWarning: The function `load` is in beta. It is actively being worked on, so the API may change.\n",
            "  retrieval_chain = load(config_data)\n"
          ]
        },
        {
          "data": {
            "text/plain": [
              "'{\\n  \"lc\": 1,\\n  \"type\": \"constructor\",\\n  \"id\": [\\n    \"langchain\",\\n    \"schema\",\\n    \"runnable\",\\n    \"RunnableBinding\"\\n  ],\\n  \"kwargs\": {\\n    \"bound\": {\\n      \"lc\": 1,\\n      \"type\": \"constructor\",\\n      \"id\": [\\n        \"langchain\",\\n        \"schema\",\\n        \"runnable\",\\n        \"RunnableSequence\"\\n      ],\\n      \"kwargs\": {\\n        \"first\": {\\n          \"lc\": 1,\\n          \"type\": \"constructor\",\\n          \"id\": [\\n            \"langchain\",\\n            \"schema\",\\n            \"runnable\",\\n            \"RunnableAssign\"\\n          ],\\n          \"kwargs\": {\\n            \"mapper\": {\\n              \"lc\": 1,\\n              \"type\": \"constructor\",\\n              \"id\": [\\n                \"langchain\",\\n                \"schema\",\\n                \"runnable\",\\n                \"RunnableParallel\"\\n              ],\\n              \"kwargs\": {\\n                \"steps__\": {\\n                  \"context\": {\\n                    \"lc\": 1,\\n                    \"type\": \"constructor\",\\n                    \"id\": [\\n                      \"langchain\",\\n                      \"schema\",\\n                      \"runnable\",\\n                      \"RunnableBinding\"\\n                    ],\\n                    \"kwargs\": {\\n                      \"bound\": {\\n                        \"lc\": 1,\\n                        \"type\": \"constructor\",\\n                        \"id\": [\\n                          \"langchain\",\\n                          \"schema\",\\n                          \"runnable\",\\n                          \"RunnableSequence\"\\n                        ],\\n                        \"kwargs\": {\\n                          \"first\": {\\n                            \"lc\": 1,\\n                            \"type\": \"not_implemented\",\\n                            \"id\": [\\n                              \"langchain_core\",\\n                              \"runnables\",\\n                              \"base\",\\n                              \"RunnableLambda\"\\n                            ],\\n                            \"repr\": \"RunnableLambda(lambda x: x[\\'input\\'])\"\\n                          },\\n                          \"last\": {\\n                            \"lc\": 1,\\n                            \"type\": \"not_implemented\",\\n                            \"id\": [\\n                              \"langchain_core\",\\n                              \"vectorstores\",\\n                              \"base\",\\n                              \"VectorStoreRetriever\"\\n                            ],\\n                            \"repr\": \"VectorStoreRetriever(tags=[\\'Chroma\\', \\'HuggingFaceEmbeddings\\'], vectorstore=<langchain_community.vectorstores.chroma.Chroma object at 0x31befbb50>, search_kwargs={})\",\\n                            \"name\": \"VectorStoreRetriever\"\\n                          }\\n                        },\\n                        \"name\": \"RunnableSequence\"\\n                      },\\n                      \"config\": {\\n                        \"run_name\": \"retrieve_documents\"\\n                      }\\n                    },\\n                    \"name\": \"RunnableSequence\"\\n                  }\\n                }\\n              },\\n              \"name\": \"RunnableParallel<context>\"\\n            }\\n          },\\n          \"name\": \"RunnableAssign<context>\"\\n        },\\n        \"last\": {\\n          \"lc\": 1,\\n          \"type\": \"constructor\",\\n          \"id\": [\\n            \"langchain\",\\n            \"schema\",\\n            \"runnable\",\\n            \"RunnableAssign\"\\n          ],\\n          \"kwargs\": {\\n            \"mapper\": {\\n              \"lc\": 1,\\n              \"type\": \"constructor\",\\n              \"id\": [\\n                \"langchain\",\\n                \"schema\",\\n                \"runnable\",\\n                \"RunnableParallel\"\\n              ],\\n              \"kwargs\": {\\n                \"steps__\": {\\n                  \"answer\": {\\n                    \"lc\": 1,\\n                    \"type\": \"constructor\",\\n                    \"id\": [\\n                      \"langchain\",\\n                      \"schema\",\\n                      \"runnable\",\\n                      \"RunnableBinding\"\\n                    ],\\n                    \"kwargs\": {\\n                      \"bound\": {\\n                        \"lc\": 1,\\n                        \"type\": \"constructor\",\\n                        \"id\": [\\n                          \"langchain\",\\n                          \"schema\",\\n                          \"runnable\",\\n                          \"RunnableSequence\"\\n                        ],\\n                        \"kwargs\": {\\n                          \"first\": {\\n                            \"lc\": 1,\\n                            \"type\": \"constructor\",\\n                            \"id\": [\\n                              \"langchain\",\\n                              \"schema\",\\n                              \"runnable\",\\n                              \"RunnableBinding\"\\n                            ],\\n                            \"kwargs\": {\\n                              \"bound\": {\\n                                \"lc\": 1,\\n                                \"type\": \"constructor\",\\n                                \"id\": [\\n                                  \"langchain\",\\n                                  \"schema\",\\n                                  \"runnable\",\\n                                  \"RunnableAssign\"\\n                                ],\\n                                \"kwargs\": {\\n                                  \"mapper\": {\\n                                    \"lc\": 1,\\n                                    \"type\": \"constructor\",\\n                                    \"id\": [\\n                                      \"langchain\",\\n                                      \"schema\",\\n                                      \"runnable\",\\n                                      \"RunnableParallel\"\\n                                    ],\\n                                    \"kwargs\": {\\n                                      \"steps__\": {\\n                                        \"context\": {\\n                                          \"lc\": 1,\\n                                          \"type\": \"not_implemented\",\\n                                          \"id\": [\\n                                            \"langchain_core\",\\n                                            \"runnables\",\\n                                            \"base\",\\n                                            \"RunnableLambda\"\\n                                          ],\\n                                          \"repr\": \"RunnableLambda(format_docs)\"\\n                                        }\\n                                      }\\n                                    },\\n                                    \"name\": \"RunnableParallel<context>\"\\n                                  }\\n                                },\\n                                \"name\": \"RunnableAssign<context>\"\\n                              },\\n                              \"config\": {\\n                                \"run_name\": \"format_inputs\"\\n                              }\\n                            },\\n                            \"name\": \"RunnableAssign<context>\"\\n                          },\\n                          \"middle\": [\\n                            {\\n                              \"lc\": 1,\\n                              \"type\": \"constructor\",\\n                              \"id\": [\\n                                \"langchain\",\\n                                \"prompts\",\\n                                \"chat\",\\n                                \"ChatPromptTemplate\"\\n                              ],\\n                              \"kwargs\": {\\n                                \"input_variables\": [\\n                                  \"context\",\\n                                  \"input\"\\n                                ],\\n                                \"messages\": [\\n                                  {\\n                                    \"lc\": 1,\\n                                    \"type\": \"constructor\",\\n                                    \"id\": [\\n                                      \"langchain\",\\n                                      \"prompts\",\\n                                      \"chat\",\\n                                      \"HumanMessagePromptTemplate\"\\n                                    ],\\n                                    \"kwargs\": {\\n                                      \"prompt\": {\\n                                        \"lc\": 1,\\n                                        \"type\": \"constructor\",\\n                                        \"id\": [\\n                                          \"langchain\",\\n                                          \"prompts\",\\n                                          \"prompt\",\\n                                          \"PromptTemplate\"\\n                                        ],\\n                                        \"kwargs\": {\\n                                          \"input_variables\": [\\n                                            \"context\",\\n                                            \"input\"\\n                                          ],\\n                                          \"template\": \"\\\\nAnswer the following question based only on the provided context. \\\\nThink step by step before providing a detailed answer. \\\\n<context>\\\\n{context} \\\\n</context>\\\\nQuestion: {input}\",\\n                                          \"template_format\": \"f-string\"\\n                                        },\\n                                        \"name\": \"PromptTemplate\"\\n                                      }\\n                                    }\\n                                  }\\n                                ]\\n                              },\\n                              \"name\": \"ChatPromptTemplate\"\\n                            },\\n                            {\\n                              \"lc\": 1,\\n                              \"type\": \"not_implemented\",\\n                              \"id\": [\\n                                \"langchain_community\",\\n                                \"llms\",\\n                                \"ollama\",\\n                                \"Ollama\"\\n                              ],\\n                              \"repr\": \"Ollama(model=\\'orca-mini\\')\",\\n                              \"name\": \"Ollama\"\\n                            }\\n                          ],\\n                          \"last\": {\\n                            \"lc\": 1,\\n                            \"type\": \"constructor\",\\n                            \"id\": [\\n                              \"langchain\",\\n                              \"schema\",\\n                              \"output_parser\",\\n                              \"StrOutputParser\"\\n                            ],\\n                            \"kwargs\": {},\\n                            \"name\": \"StrOutputParser\"\\n                          }\\n                        },\\n                        \"name\": \"RunnableSequence\"\\n                      },\\n                      \"config\": {\\n                        \"run_name\": \"stuff_documents_chain\"\\n                      }\\n                    },\\n                    \"name\": \"RunnableSequence\"\\n                  }\\n                }\\n              },\\n              \"name\": \"RunnableParallel<answer>\"\\n            }\\n          },\\n          \"name\": \"RunnableAssign<answer>\"\\n        }\\n      },\\n      \"name\": \"RunnableSequence\"\\n    },\\n    \"config\": {\\n      \"run_name\": \"retrieval_chain\"\\n    }\\n  },\\n  \"name\": \"RunnableSequence\"\\n}'"
            ]
          },
          "execution_count": 3,
          "metadata": {},
          "output_type": "execute_result"
        }
      ],
      "source": [
        "with open(\"retrieval_chain.json\", \"r\") as fp:\n",
        "    config_data = json.load(fp)\n",
        "\n",
        "retrieval_chain = load(config_data)\n",
        "retrieval_chain"
      ]
    },
    {
      "cell_type": "code",
      "execution_count": 6,
      "metadata": {},
      "outputs": [
        {
          "data": {
            "text/plain": [
              "{'lc': 1,\n",
              " 'type': 'constructor',\n",
              " 'id': ['langchain', 'schema', 'runnable', 'RunnableBinding'],\n",
              " 'kwargs': {'bound': {'lc': 1,\n",
              "   'type': 'constructor',\n",
              "   'id': ['langchain', 'schema', 'runnable', 'RunnableSequence'],\n",
              "   'kwargs': {'first': {'lc': 1,\n",
              "     'type': 'constructor',\n",
              "     'id': ['langchain', 'schema', 'runnable', 'RunnableAssign'],\n",
              "     'kwargs': {'mapper': {'lc': 1,\n",
              "       'type': 'constructor',\n",
              "       'id': ['langchain', 'schema', 'runnable', 'RunnableParallel'],\n",
              "       'kwargs': {'steps__': {'context': {'lc': 1,\n",
              "          'type': 'constructor',\n",
              "          'id': ['langchain', 'schema', 'runnable', 'RunnableBinding'],\n",
              "          'kwargs': {'bound': {'lc': 1,\n",
              "            'type': 'constructor',\n",
              "            'id': ['langchain', 'schema', 'runnable', 'RunnableSequence'],\n",
              "            'kwargs': {'first': {'lc': 1,\n",
              "              'type': 'not_implemented',\n",
              "              'id': ['langchain_core', 'runnables', 'base', 'RunnableLambda'],\n",
              "              'repr': \"RunnableLambda(lambda x: x['input'])\"},\n",
              "             'last': {'lc': 1,\n",
              "              'type': 'not_implemented',\n",
              "              'id': ['langchain_core',\n",
              "               'vectorstores',\n",
              "               'base',\n",
              "               'VectorStoreRetriever'],\n",
              "              'repr': \"VectorStoreRetriever(tags=['Chroma', 'HuggingFaceEmbeddings'], vectorstore=<langchain_community.vectorstores.chroma.Chroma object at 0x31befbb50>, search_kwargs={})\",\n",
              "              'name': 'VectorStoreRetriever'}},\n",
              "            'name': 'RunnableSequence'},\n",
              "           'config': {'run_name': 'retrieve_documents'}},\n",
              "          'name': 'RunnableSequence'}}},\n",
              "       'name': 'RunnableParallel<context>'}},\n",
              "     'name': 'RunnableAssign<context>'},\n",
              "    'last': {'lc': 1,\n",
              "     'type': 'constructor',\n",
              "     'id': ['langchain', 'schema', 'runnable', 'RunnableAssign'],\n",
              "     'kwargs': {'mapper': {'lc': 1,\n",
              "       'type': 'constructor',\n",
              "       'id': ['langchain', 'schema', 'runnable', 'RunnableParallel'],\n",
              "       'kwargs': {'steps__': {'answer': {'lc': 1,\n",
              "          'type': 'constructor',\n",
              "          'id': ['langchain', 'schema', 'runnable', 'RunnableBinding'],\n",
              "          'kwargs': {'bound': {'lc': 1,\n",
              "            'type': 'constructor',\n",
              "            'id': ['langchain', 'schema', 'runnable', 'RunnableSequence'],\n",
              "            'kwargs': {'first': {'lc': 1,\n",
              "              'type': 'constructor',\n",
              "              'id': ['langchain', 'schema', 'runnable', 'RunnableBinding'],\n",
              "              'kwargs': {'bound': {'lc': 1,\n",
              "                'type': 'constructor',\n",
              "                'id': ['langchain', 'schema', 'runnable', 'RunnableAssign'],\n",
              "                'kwargs': {'mapper': {'lc': 1,\n",
              "                  'type': 'constructor',\n",
              "                  'id': ['langchain',\n",
              "                   'schema',\n",
              "                   'runnable',\n",
              "                   'RunnableParallel'],\n",
              "                  'kwargs': {'steps__': {'context': {'lc': 1,\n",
              "                     'type': 'not_implemented',\n",
              "                     'id': ['langchain_core',\n",
              "                      'runnables',\n",
              "                      'base',\n",
              "                      'RunnableLambda'],\n",
              "                     'repr': 'RunnableLambda(format_docs)'}}},\n",
              "                  'name': 'RunnableParallel<context>'}},\n",
              "                'name': 'RunnableAssign<context>'},\n",
              "               'config': {'run_name': 'format_inputs'}},\n",
              "              'name': 'RunnableAssign<context>'},\n",
              "             'middle': [{'lc': 1,\n",
              "               'type': 'constructor',\n",
              "               'id': ['langchain', 'prompts', 'chat', 'ChatPromptTemplate'],\n",
              "               'kwargs': {'input_variables': ['context', 'input'],\n",
              "                'messages': [{'lc': 1,\n",
              "                  'type': 'constructor',\n",
              "                  'id': ['langchain',\n",
              "                   'prompts',\n",
              "                   'chat',\n",
              "                   'HumanMessagePromptTemplate'],\n",
              "                  'kwargs': {'prompt': {'lc': 1,\n",
              "                    'type': 'constructor',\n",
              "                    'id': ['langchain', 'prompts', 'prompt', 'PromptTemplate'],\n",
              "                    'kwargs': {'input_variables': ['context', 'input'],\n",
              "                     'template': '\\nAnswer the following question based only on the provided context. \\nThink step by step before providing a detailed answer. \\n<context>\\n{context} \\n</context>\\nQuestion: {input}',\n",
              "                     'template_format': 'f-string'},\n",
              "                    'name': 'PromptTemplate'}}}]},\n",
              "               'name': 'ChatPromptTemplate'},\n",
              "              {'lc': 1,\n",
              "               'type': 'not_implemented',\n",
              "               'id': ['langchain_community', 'llms', 'ollama', 'Ollama'],\n",
              "               'repr': \"Ollama(model='orca-mini')\",\n",
              "               'name': 'Ollama'}],\n",
              "             'last': {'lc': 1,\n",
              "              'type': 'constructor',\n",
              "              'id': ['langchain',\n",
              "               'schema',\n",
              "               'output_parser',\n",
              "               'StrOutputParser'],\n",
              "              'kwargs': {},\n",
              "              'name': 'StrOutputParser'}},\n",
              "            'name': 'RunnableSequence'},\n",
              "           'config': {'run_name': 'stuff_documents_chain'}},\n",
              "          'name': 'RunnableSequence'}}},\n",
              "       'name': 'RunnableParallel<answer>'}},\n",
              "     'name': 'RunnableAssign<answer>'}},\n",
              "   'name': 'RunnableSequence'},\n",
              "  'config': {'run_name': 'retrieval_chain'}},\n",
              " 'name': 'RunnableSequence'}"
            ]
          },
          "execution_count": 6,
          "metadata": {},
          "output_type": "execute_result"
        }
      ],
      "source": [
        "config = json.loads(retrieval_chain)\n",
        "config"
      ]
    },
    {
      "cell_type": "code",
      "execution_count": 7,
      "metadata": {},
      "outputs": [
        {
          "data": {
            "text/plain": [
              "'constructor'"
            ]
          },
          "execution_count": 7,
          "metadata": {},
          "output_type": "execute_result"
        }
      ],
      "source": [
        "config['type']"
      ]
    },
    {
      "cell_type": "code",
      "execution_count": null,
      "metadata": {},
      "outputs": [],
      "source": []
    },
    {
      "cell_type": "code",
      "execution_count": null,
      "metadata": {},
      "outputs": [],
      "source": []
    }
  ],
  "metadata": {
    "colab": {
      "include_colab_link": true,
      "provenance": []
    },
    "kernelspec": {
      "display_name": "aai_env",
      "language": "python",
      "name": "python3"
    },
    "language_info": {
      "codemirror_mode": {
        "name": "ipython",
        "version": 3
      },
      "file_extension": ".py",
      "mimetype": "text/x-python",
      "name": "python",
      "nbconvert_exporter": "python",
      "pygments_lexer": "ipython3",
      "version": "3.10.15"
    }
  },
  "nbformat": 4,
  "nbformat_minor": 0
}
